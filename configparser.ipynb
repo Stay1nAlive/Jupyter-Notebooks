{
 "cells": [
  {
   "cell_type": "markdown",
   "metadata": {},
   "source": [
    "#  Модуль configparser в Python"
   ]
  },
  {
   "cell_type": "code",
   "execution_count": 1,
   "metadata": {
    "scrolled": true
   },
   "outputs": [],
   "source": [
    "import configparser"
   ]
  },
  {
   "cell_type": "markdown",
   "metadata": {},
   "source": [
    "configparser реализует базовый язык конфигурации, который обеспечивает структуру, аналогичную той, что находится в файлах INI Microsoft Windows. Используйется для написания программ, которые могут быть легко настроены пользователями."
   ]
  },
  {
   "cell_type": "code",
   "execution_count": 2,
   "metadata": {},
   "outputs": [],
   "source": [
    "config = configparser.ConfigParser()\n",
    "config['DEFAULT'] = {'ServerAliveInterval': '45',\n",
    "                      'Compression': 'yes',\n",
    "                      'CompressionLevel': '9'}\n",
    "config['bitbucket.org'] = {}\n",
    "config['bitbucket.org']['User'] = 'hg'\n",
    "config['topsecret.server.com'] = {}\n",
    "topsecret = config['topsecret.server.com']\n",
    "topsecret['Port'] = '50022'     \n",
    "topsecret['ForwardX11'] = 'no'  \n",
    "config['DEFAULT']['ForwardX11'] = 'yes'\n",
    "with open('example.ini', 'w') as configfile:\n",
    "    config.write(configfile)"
   ]
  },
  {
   "cell_type": "markdown",
   "metadata": {},
   "source": [
    "Как видите, мы можем рассматривать парсер конфигурации как словарь. Есть различия, но поведение очень близко к тому, что вы ожидаете от словаря.\n",
    "\n",
    "Наличие секции DEFAULT - обязательно, но она может остаться пустой\n",
    "\n",
    "Теперь, когда мы создали и сохранили файл конфигурации, давайте прочитаем его и исследуем данные, которые он хранит."
   ]
  },
  {
   "cell_type": "code",
   "execution_count": 3,
   "metadata": {},
   "outputs": [
    {
     "data": {
      "text/plain": [
       "['example.ini']"
      ]
     },
     "execution_count": 3,
     "metadata": {},
     "output_type": "execute_result"
    }
   ],
   "source": [
    "config.read('example.ini')"
   ]
  },
  {
   "cell_type": "markdown",
   "metadata": {},
   "source": [
    "Файл найден"
   ]
  },
  {
   "cell_type": "code",
   "execution_count": 4,
   "metadata": {
    "scrolled": true
   },
   "outputs": [
    {
     "data": {
      "text/plain": [
       "['bitbucket.org', 'topsecret.server.com']"
      ]
     },
     "execution_count": 4,
     "metadata": {},
     "output_type": "execute_result"
    }
   ],
   "source": [
    "config.sections()"
   ]
  },
  {
   "cell_type": "markdown",
   "metadata": {},
   "source": [
    "Отображение секций файла, помимо DEFAULT"
   ]
  },
  {
   "cell_type": "code",
   "execution_count": 5,
   "metadata": {},
   "outputs": [
    {
     "data": {
      "text/plain": [
       "True"
      ]
     },
     "execution_count": 5,
     "metadata": {},
     "output_type": "execute_result"
    }
   ],
   "source": [
    "'bitbucket.org' in config"
   ]
  },
  {
   "cell_type": "code",
   "execution_count": 6,
   "metadata": {},
   "outputs": [
    {
     "data": {
      "text/plain": [
       "False"
      ]
     },
     "execution_count": 6,
     "metadata": {},
     "output_type": "execute_result"
    }
   ],
   "source": [
    "'bytebong.com' in config"
   ]
  },
  {
   "cell_type": "markdown",
   "metadata": {},
   "source": [
    "Как и всюду в питоне можем проверить наличие элемента (в данном случае - секции в файле конфига)"
   ]
  },
  {
   "cell_type": "code",
   "execution_count": 7,
   "metadata": {
    "scrolled": true
   },
   "outputs": [
    {
     "data": {
      "text/plain": [
       "'hg'"
      ]
     },
     "execution_count": 7,
     "metadata": {},
     "output_type": "execute_result"
    }
   ],
   "source": [
    "config['bitbucket.org']['User']"
   ]
  },
  {
   "cell_type": "code",
   "execution_count": 8,
   "metadata": {},
   "outputs": [
    {
     "data": {
      "text/plain": [
       "'yes'"
      ]
     },
     "execution_count": 8,
     "metadata": {},
     "output_type": "execute_result"
    }
   ],
   "source": [
    "config['DEFAULT']['Compression']"
   ]
  },
  {
   "cell_type": "code",
   "execution_count": 9,
   "metadata": {},
   "outputs": [
    {
     "data": {
      "text/plain": [
       "'no'"
      ]
     },
     "execution_count": 9,
     "metadata": {},
     "output_type": "execute_result"
    }
   ],
   "source": [
    "topsecret = config['topsecret.server.com']\n",
    "topsecret['ForwardX11']"
   ]
  },
  {
   "cell_type": "code",
   "execution_count": 10,
   "metadata": {},
   "outputs": [
    {
     "data": {
      "text/plain": [
       "'50022'"
      ]
     },
     "execution_count": 10,
     "metadata": {},
     "output_type": "execute_result"
    }
   ],
   "source": [
    "topsecret['Port']"
   ]
  },
  {
   "cell_type": "code",
   "execution_count": 11,
   "metadata": {},
   "outputs": [
    {
     "name": "stdout",
     "output_type": "stream",
     "text": [
      "user\n",
      "serveraliveinterval\n",
      "compression\n",
      "compressionlevel\n",
      "forwardx11\n"
     ]
    }
   ],
   "source": [
    "for key in config['bitbucket.org']:  \n",
    "    print(key)"
   ]
  },
  {
   "cell_type": "code",
   "execution_count": 12,
   "metadata": {},
   "outputs": [
    {
     "data": {
      "text/plain": [
       "'yes'"
      ]
     },
     "execution_count": 12,
     "metadata": {},
     "output_type": "execute_result"
    }
   ],
   "source": [
    "config['bitbucket.org']['Compression']"
   ]
  },
  {
   "cell_type": "markdown",
   "metadata": {},
   "source": [
    "Различные способы вытащить из файла конфига инфу, отдельно замечаем поведение DEFAULT - распространяется на все секции"
   ]
  },
  {
   "cell_type": "markdown",
   "metadata": {},
   "source": [
    "Парсеры конфигурации не угадывают типы данных значений в файлах конфигурации, всегда сохраняя их внутри как строки. Это означает, что если вам нужны другие типы данных, вы должны конвертировать их самостоятельно:"
   ]
  },
  {
   "cell_type": "code",
   "execution_count": 13,
   "metadata": {},
   "outputs": [
    {
     "data": {
      "text/plain": [
       "50022"
      ]
     },
     "execution_count": 13,
     "metadata": {},
     "output_type": "execute_result"
    }
   ],
   "source": [
    "int(topsecret['Port'])"
   ]
  },
  {
   "cell_type": "code",
   "execution_count": 14,
   "metadata": {},
   "outputs": [
    {
     "data": {
      "text/plain": [
       "9.0"
      ]
     },
     "execution_count": 14,
     "metadata": {},
     "output_type": "execute_result"
    }
   ],
   "source": [
    "float(topsecret['CompressionLevel'])"
   ]
  },
  {
   "cell_type": "markdown",
   "metadata": {},
   "source": [
    "Для этого дела существует ряд удобных методов получения для обработки int-ов, float-ов и boolean-ов. Последний особо интересен, так как любая строка всегда будет выдавать True, поэтому придуман метод getboolean()."
   ]
  },
  {
   "cell_type": "code",
   "execution_count": 15,
   "metadata": {},
   "outputs": [
    {
     "data": {
      "text/plain": [
       "False"
      ]
     },
     "execution_count": 15,
     "metadata": {},
     "output_type": "execute_result"
    }
   ],
   "source": [
    "topsecret.getboolean('ForwardX11')"
   ]
  },
  {
   "cell_type": "code",
   "execution_count": 16,
   "metadata": {},
   "outputs": [
    {
     "data": {
      "text/plain": [
       "True"
      ]
     },
     "execution_count": 16,
     "metadata": {},
     "output_type": "execute_result"
    }
   ],
   "source": [
    "config['bitbucket.org'].getboolean('ForwardX11')"
   ]
  },
  {
   "cell_type": "code",
   "execution_count": 17,
   "metadata": {},
   "outputs": [
    {
     "data": {
      "text/plain": [
       "True"
      ]
     },
     "execution_count": 17,
     "metadata": {},
     "output_type": "execute_result"
    }
   ],
   "source": [
    "config.getboolean('bitbucket.org', 'Compression')"
   ]
  },
  {
   "cell_type": "markdown",
   "metadata": {},
   "source": [
    "Имеет смысл отметить, что способов написания файлов конфигурации столько же, сколько самих этих файлов, поэтому в configparser предусмотрены методы кастомизации считывания синтаксиса из файла, но по умолчанию:"
   ]
  },
  {
   "cell_type": "markdown",
   "metadata": {},
   "source": [
    "\\[Простые значения\\]\n",
    "\n",
    "ключ=значение\n",
    "\n",
    "пробелы в ключах=разрешено\n",
    "\n",
    "пробелы в значениях=также разрешены\n",
    "\n",
    "пробелы вокруг разделителя = очевидно\n",
    "\n",
    "вы также можете использовать: для разделения ключей от значений\n",
    "\n",
    "\n",
    "\n",
    "\\[Все числа - строки\\]\n",
    "\n",
    "записываются так: \\1000000\n",
    "\n",
    "или так: 3.14159265359\n",
    "\n",
    "они рассматриваются как числа? : нет\n",
    "\n",
    "целые числа, числа с плавающей запятой и логические значения хранятся как: строки\n",
    "\n",
    "можно использовать API чтобы напрямую получать переведённые значения: true\n",
    "\n",
    "\n",
    "\n",
    "\\[Многострочные значения\\]\n",
    "\n",
    "многострочные: значения\n",
    "\n",
    "    разрешаются\n",
    "    \n",
    "\n",
    "\n",
    "\\[Без значений\\]\n",
    "\n",
    "ключ_без_значения\n",
    "\n",
    "пустое строковое значение =\n",
    "\n",
    "\n",
    "\n",
    "\\[Вы можете использовать комментарии\\]\n",
    "\n",
    "\\# как это\n",
    "\n",
    "; или это\n",
    "\n",
    "\n",
    "\n",
    "\\# По умолчанию только в пустой строке.\n",
    "\n",
    "\\# Встроенные комментарии могут быть вредными, поскольку не позволяют пользователям\n",
    "\n",
    "\\# использовать символы-разделители в качестве частей значений.\n",
    "\n",
    "\\# Тем не менее, это можно настроить.\n",
    "\n",
    "\n",
    "\n",
    "\n",
    "     [Разделы могут иметь отступ]\n",
    "     \n",
    "        а_значения_могут = True\n",
    "        \n",
    "        это_значит_что-то_особенное = False\n",
    "        \n",
    "        цель = форматирование для удобства чтения\n",
    "        \n",
    "        многострочные_значения ​​= обрабатываются нормально\n",
    "        \n",
    "            оесли они имеют отступ глубже\n",
    "            \n",
    "            чем первая строка\n",
    "            \n",
    "            значения\n",
    "            \n",
    "        # Я упоминал, что мы тоже можем делать отступы для комментариев?"
   ]
  },
  {
   "cell_type": "markdown",
   "metadata": {},
   "source": [
    "**ЗАДАНИЕ** - Написать код, забивающий в файл первые две секции предыдущего текста (про простые значения и числа = строки)"
   ]
  },
  {
   "cell_type": "code",
   "execution_count": null,
   "metadata": {},
   "outputs": [],
   "source": []
  }
 ],
 "metadata": {
  "kernelspec": {
   "display_name": "Python 3",
   "language": "python",
   "name": "python3"
  },
  "language_info": {
   "codemirror_mode": {
    "name": "ipython",
    "version": 3
   },
   "file_extension": ".py",
   "mimetype": "text/x-python",
   "name": "python",
   "nbconvert_exporter": "python",
   "pygments_lexer": "ipython3",
   "version": "3.7.4"
  }
 },
 "nbformat": 4,
 "nbformat_minor": 2
}
